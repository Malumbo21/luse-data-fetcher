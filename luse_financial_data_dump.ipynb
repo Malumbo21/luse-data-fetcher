{
  "nbformat": 4,
  "nbformat_minor": 0,
  "metadata": {
    "colab": {
      "provenance": [],
      "authorship_tag": "ABX9TyNunCsGji/Fjp3TTa9VwER/",
      "include_colab_link": true
    },
    "kernelspec": {
      "name": "python3",
      "display_name": "Python 3"
    },
    "language_info": {
      "name": "python"
    }
  },
  "cells": [
    {
      "cell_type": "markdown",
      "metadata": {
        "id": "view-in-github",
        "colab_type": "text"
      },
      "source": [
        "<a href=\"https://colab.research.google.com/github/suwilanji-chipofya-hadat/luse-data-fetcher/blob/main/luse_financial_data_dump.ipynb\" target=\"_parent\"><img src=\"https://colab.research.google.com/assets/colab-badge.svg\" alt=\"Open In Colab\"/></a>"
      ]
    },
    {
      "cell_type": "code",
      "source": [
        "import io\n",
        "import re\n",
        "import enum\n",
        "import requests\n",
        "from bs4 import BeautifulSoup"
      ],
      "metadata": {
        "id": "wYCfmHemj8Qe"
      },
      "execution_count": 66,
      "outputs": []
    },
    {
      "cell_type": "code",
      "source": [
        "class Month(enum.Enum):\n",
        "\tJANUARY = 1\n",
        "\tFEBRUARY = 2\n",
        "\tMARCH = 3\n",
        "\tAPRIL = 4\n",
        "\tMAY = 5\n",
        "\tJUNE = 6\n",
        "\tJULY = 7\n",
        "\tAUGUST = 8\n",
        "\tSEPTEMBER = 9\n",
        "\tOCTOBER = 10\n",
        "\tNOVEMBER = 11\n",
        "\tDECEMBER = 12"
      ],
      "metadata": {
        "id": "zFoNTI-ckDAH"
      },
      "execution_count": 60,
      "outputs": []
    },
    {
      "cell_type": "code",
      "source": [
        "res = requests.get(\"https://luse.co.zm/market-data/\")\n",
        "soup = BeautifulSoup(res.content, 'html.parser')"
      ],
      "metadata": {
        "id": "Qu3TtMkVkFvZ"
      },
      "execution_count": 61,
      "outputs": []
    },
    {
      "cell_type": "code",
      "source": [
        "pdf_links = soup.find_all('a', href=re.compile(r'\\.pdf$'))\n",
        "links = [link['href'] for link in pdf_links]"
      ],
      "metadata": {
        "id": "XC4IlTBZkXUT"
      },
      "execution_count": 71,
      "outputs": []
    },
    {
      "cell_type": "code",
      "source": [
        "data = []\n",
        "for link in links:\n",
        "  res = requests.get(link, stream=True)\n",
        "  if res.status_code == 200:\n",
        "    f_stream = io.BytesIO()\n",
        "    for chunk in res.iter_content(chunk_size=8192):\n",
        "      f_stream.write(chunk)\n",
        "    f_stream.seek(0)\n",
        "    data.append(f_stream)"
      ],
      "metadata": {
        "id": "EMjlsfxImJvn"
      },
      "execution_count": 74,
      "outputs": []
    },
    {
      "cell_type": "code",
      "source": [
        "l = links[0]\n",
        "a = l.split('/')[-1]\n",
        "al = a.split('-')\n",
        "d = f\"{al[0]} {al[1]} {al[2]}\"\n",
        "d"
      ],
      "metadata": {
        "colab": {
          "base_uri": "https://localhost:8080/",
          "height": 35
        },
        "id": "JklxoRsPoFfo",
        "outputId": "eeb256ca-b44c-4d82-a5e0-ec18652e2b2b"
      },
      "execution_count": 82,
      "outputs": [
        {
          "output_type": "execute_result",
          "data": {
            "text/plain": [
              "'30 June 2022'"
            ],
            "application/vnd.google.colaboratory.intrinsic+json": {
              "type": "string"
            }
          },
          "metadata": {},
          "execution_count": 82
        }
      ]
    },
    {
      "cell_type": "code",
      "source": [
        "import tabula\n",
        "import pandas as pd\n",
        "\n",
        "class Config:\n",
        "    pages = 1\n",
        "    relative_area = True\n",
        "    relative_columns = True\n",
        "    area = [30, 0, 894, 400]\n",
        "\n",
        "def get_data(src_pdf, config=Config()) -> (bool, pd.DataFrame, str):\n",
        "    try:\n",
        "        data = tabula.read_pdf(src_pdf, pages=config.pages, relative_area=config.relative_area, relative_columns=config.relative_columns, area=config.area)\n",
        "        df = data[0]\n",
        "\n",
        "        # Drop rows with NaN values\n",
        "        df = df.dropna(subset=df.columns, how='all')\n",
        "\n",
        "        # Reset index after dropping rows\n",
        "        df = df.reset_index(drop=True)\n",
        "\n",
        "        # Fill NaN values with an empty string\n",
        "        df = df.fillna(\"\")\n",
        "\n",
        "        # Combine header rows into a single row\n",
        "        df.columns = [' '.join(filter(None, col)) for col in df.columns]\n",
        "\n",
        "        return (True, df, \"\")\n",
        "    except Exception as e:\n",
        "        return (False, pd.DataFrame(), str(e))\n"
      ],
      "metadata": {
        "id": "zpEoEYzSq7Aj"
      },
      "execution_count": 94,
      "outputs": []
    },
    {
      "cell_type": "code",
      "source": [
        "import tempfile\n",
        "import pandas as pd\n",
        "import os\n",
        "\n",
        "dfs = []\n",
        "for d in data:\n",
        "  with tempfile.NamedTemporaryFile(suffix=\".pdf\", delete=False) as temp_file:\n",
        "    temp_file.write(d.getvalue())\n",
        "    src = temp_file.name\n",
        "    df = get_data(src)\n",
        "    dfs.append(df)\n",
        "    temp_file.close()"
      ],
      "metadata": {
        "id": "qQ-8bE44pJhm"
      },
      "execution_count": null,
      "outputs": []
    },
    {
      "cell_type": "code",
      "source": [
        "new_dfs = []\n",
        "for df in dfs:\n",
        "  df[1].columns = ['instrument', 'bid_qty', 'bid_price', 'ask_price', 'ask_qty','last_trade_price', 'net_change', 'closing_price', 'total_turnover','average_price', 'last_traded_size', 'week_52_high', 'week_52_low','opening_price', 'change', 'previous_closing_price', 'total_trades','trade_volume', 'foreign_buys', 'foreign_sells']\n",
        "  df_mod = df[1].iloc[2:-2]\n",
        "  new_dfs.append(df_mod)"
      ],
      "metadata": {
        "id": "KQYDSDWtrOPz"
      },
      "execution_count": 117,
      "outputs": []
    },
    {
      "cell_type": "code",
      "source": [
        "!pip install sqlalchemy"
      ],
      "metadata": {
        "id": "FEscSab64UPu"
      },
      "execution_count": null,
      "outputs": []
    },
    {
      "cell_type": "code",
      "source": [
        "from sqlalchemy import create_engine, Column, Integer, String, Float, MetaData, Table, Date\n",
        "\n",
        "# Replace 'your_username', 'your_password', 'your_host', and 'your_database' with your actual PostgreSQL credentials\n",
        "DATABASE_URL = ''\n",
        "engine = create_engine(DATABASE_URL)\n",
        "\n",
        "metadata = MetaData()\n",
        "\n",
        "stock_data_table = Table(\n",
        "    'stock_data',\n",
        "    metadata,\n",
        "    Column('date', Date),\n",
        "    Column('instrument', String),\n",
        "    Column('bid_qty', Integer),\n",
        "    Column('bid_price', Float),\n",
        "    Column('ask_price', Float),\n",
        "    Column('ask_qty', Integer),\n",
        "    Column('last_trade_price', Float),\n",
        "    Column('net_change', Float),\n",
        "    Column('closing_price', Float),\n",
        "    Column('total_turnover', Float),\n",
        "    Column('average_price', Float),\n",
        "    Column('last_traded_size', Integer),\n",
        "    Column('week_52_high', Float),\n",
        "    Column('week_52_low', Float),\n",
        "    Column('opening_price', Float),\n",
        "    Column('change', Float),\n",
        "    Column('previous_closing_price', Float),\n",
        "    Column('total_trades', Integer),\n",
        "    Column('trade_volume', Integer),\n",
        "    Column('foreign_buys', Integer),\n",
        "    Column('foreign_sells', Integer)\n",
        ")\n",
        "\n",
        "metadata.create_all(engine)\n"
      ],
      "metadata": {
        "id": "pdzN-tq04LvY"
      },
      "execution_count": 125,
      "outputs": []
    },
    {
      "cell_type": "code",
      "source": [
        "m_i = {\n",
        "    \"January\": \"01\",\n",
        "    \"February\": \"02\",\n",
        "    \"March\": \"03\",\n",
        "    \"April\": \"04\",\n",
        "    \"May\": \"05\",\n",
        "    \"June\": \"06\",\n",
        "    \"July\": \"07\",\n",
        "    \"August\": \"08\",\n",
        "    \"September\": \"09\",\n",
        "    \"October\": \"10\",\n",
        "    \"November\": \"11\",\n",
        "    \"December\": \"12\"\n",
        "}"
      ],
      "metadata": {
        "id": "Q2UhV2TUAMkL"
      },
      "execution_count": 131,
      "outputs": []
    },
    {
      "cell_type": "code",
      "source": [
        "a = [d.split('/')[-1] for d in links]\n",
        "a[142] = \"13-December-2022-Trade-Summary-Report.pdf\""
      ],
      "metadata": {
        "id": "5r0Cn-pe5oeK"
      },
      "execution_count": 150,
      "outputs": []
    },
    {
      "cell_type": "code",
      "source": [
        "\n",
        "dates = []\n",
        "for i, a in enumerate(a):\n",
        "  an = a.split('-')\n",
        "  s = f\"{an[2]}-{m_i[an[1]]}-{an[0]}\"\n",
        "  dates.append(s)"
      ],
      "metadata": {
        "id": "IyqvaKr7GcO4"
      },
      "execution_count": 151,
      "outputs": []
    },
    {
      "cell_type": "code",
      "source": [
        "for i, df in enumerate(new_dfs):\n",
        "  print(i)\n",
        "  df['date'] = dates[i]"
      ],
      "metadata": {
        "id": "7cB-L-EPGsCc"
      },
      "execution_count": null,
      "outputs": []
    },
    {
      "cell_type": "code",
      "source": [
        "from sqlalchemy import create_engine\n",
        "engine = create_engine('')  # Adjust connection details\n",
        "\n",
        "for i, df in enumerate(new_dfs):\n",
        "    df.to_sql(f'stock_data', engine, index=False, if_exists='append')\n"
      ],
      "metadata": {
        "id": "PwRFRT7c24zG"
      },
      "execution_count": 160,
      "outputs": []
    },
    {
      "cell_type": "code",
      "source": [
        "import sqlite3 as sql\n",
        "\n",
        "conn = sql.connect(\"dump.sqlite3\")\n",
        "cursor = conn.cursor()\n",
        "query = '''\n",
        "CREATE TABLE stock_data (\n",
        "    date DATE,\n",
        "    instrument TEXT,\n",
        "    bid_qty INTEGER,\n",
        "    bid_price REAL,\n",
        "    ask_price REAL,\n",
        "    ask_qty INTEGER,\n",
        "    last_trade_price REAL,\n",
        "    net_change REAL,\n",
        "    closing_price REAL,\n",
        "    total_turnover REAL,\n",
        "    average_price REAL,\n",
        "    last_traded_size INTEGER,\n",
        "    week_52_high REAL,\n",
        "    week_52_low REAL,\n",
        "    opening_price REAL,\n",
        "    change REAL,\n",
        "    previous_closing_price REAL,\n",
        "    total_trades INTEGER,\n",
        "    trade_volume INTEGER,\n",
        "    foreign_buys INTEGER,\n",
        "    foreign_sells INTEGER\n",
        ");\n",
        "'''\n",
        "cursor.execute(query)\n",
        "conn.commit()\n"
      ],
      "metadata": {
        "id": "yBwnZEwTwBVx"
      },
      "execution_count": 163,
      "outputs": []
    },
    {
      "cell_type": "code",
      "source": [
        "for i, df in enumerate(new_dfs):\n",
        "    df.to_sql(f'stock_data', conn, index=False, if_exists='append')\n"
      ],
      "metadata": {
        "id": "O6_vIfThLUgI"
      },
      "execution_count": 164,
      "outputs": []
    },
    {
      "cell_type": "code",
      "source": [
        "conn.close()"
      ],
      "metadata": {
        "id": "BmriwZALLblL"
      },
      "execution_count": 166,
      "outputs": []
    }
  ]
}